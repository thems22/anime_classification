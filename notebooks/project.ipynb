{
 "cells": [
  {
   "attachments": {},
   "cell_type": "markdown",
   "id": "064a4b30-dbb3-4dd2-8ded-98deeeab4474",
   "metadata": {},
   "source": [
    "#### Project Idea:\n",
    "primary objective is to make a recommendation system to find the next anime to watch.\n",
    "<br>\n",
    "for now, I'm using my own myanimelist and using both \"completed\" and \"plan to watch\" data.\n",
    "<br>\n",
    "for now the features that are available are just the genres in the myanimelist site."
   ]
  },
  {
   "cell_type": "code",
   "execution_count": 1,
   "id": "d858fb69",
   "metadata": {},
   "outputs": [],
   "source": [
    "# loading the dataset:\n",
    "from MAL_extractor import MAL_extractor\n",
    "mal_user = MAL_extractor(user_name='Aiush') # user_name is the username of the user on MAL"
   ]
  },
  {
   "cell_type": "code",
   "execution_count": 2,
   "id": "56cfa7ad",
   "metadata": {},
   "outputs": [],
   "source": [
    "result = mal_user.recursive_request()"
   ]
  },
  {
   "cell_type": "code",
   "execution_count": 3,
   "id": "4b5f044b",
   "metadata": {},
   "outputs": [
    {
     "data": {
      "text/plain": [
       "<generator object MAL_extractor.recursive_request at 0x7ff0e83eb7d0>"
      ]
     },
     "execution_count": 3,
     "metadata": {},
     "output_type": "execute_result"
    }
   ],
   "source": [
    "result # this is a generator, so we need to iterate over it to get the data.\n",
    "# there's already a function that does this, I'm using generators because I'm used to use\n",
    "# generators to get data from the internet."
   ]
  },
  {
   "cell_type": "code",
   "execution_count": 4,
   "id": "4eb6d7f6",
   "metadata": {},
   "outputs": [],
   "source": [
    "# the get_data function is a generator that will yield the data from the request.\n",
    "# It's not necessary to run the recursive_request first.\n",
    "# Reminder this is is NOT the refined data.\n",
    "result = mal_user.get_data()"
   ]
  },
  {
   "cell_type": "code",
   "execution_count": 5,
   "id": "8bfc74d4",
   "metadata": {},
   "outputs": [
    {
     "data": {
      "text/plain": [
       "265"
      ]
     },
     "execution_count": 5,
     "metadata": {},
     "output_type": "execute_result"
    }
   ],
   "source": [
    "len(result) # https://myanimelist.net/animelist/Aiush same len as the completed animes."
   ]
  },
  {
   "cell_type": "code",
   "execution_count": 6,
   "id": "b4654009",
   "metadata": {},
   "outputs": [
    {
     "data": {
      "text/plain": [
       "list"
      ]
     },
     "execution_count": 6,
     "metadata": {},
     "output_type": "execute_result"
    }
   ],
   "source": [
    "type(result) # its a list with dicts."
   ]
  },
  {
   "cell_type": "code",
   "execution_count": 7,
   "id": "3fc47e9e",
   "metadata": {},
   "outputs": [
    {
     "data": {
      "text/plain": [
       "{'status': 2,\n",
       " 'score': 5,\n",
       " 'tags': '',\n",
       " 'is_rewatching': 0,\n",
       " 'num_watched_episodes': 12,\n",
       " 'created_at': 1608610844,\n",
       " 'updated_at': 1608610847,\n",
       " 'anime_title': '100-man no Inochi no Ue ni Ore wa Tatteiru',\n",
       " 'anime_title_eng': \"I'm Standing on a Million Lives\",\n",
       " 'anime_num_episodes': 12,\n",
       " 'anime_airing_status': 2,\n",
       " 'anime_id': 41380,\n",
       " 'anime_studios': None,\n",
       " 'anime_licensors': None,\n",
       " 'anime_season': None,\n",
       " 'anime_total_members': 260122,\n",
       " 'anime_total_scores': 132036,\n",
       " 'anime_score_val': 6.5,\n",
       " 'has_episode_video': True,\n",
       " 'has_promotion_video': True,\n",
       " 'has_video': True,\n",
       " 'video_url': '/anime/41380/100-man_no_Inochi_no_Ue_ni_Ore_wa_Tatteiru/video',\n",
       " 'genres': [{'id': 1, 'name': 'Action'},\n",
       "  {'id': 8, 'name': 'Drama'},\n",
       "  {'id': 10, 'name': 'Fantasy'}],\n",
       " 'demographics': [{'id': 27, 'name': 'Shounen'}],\n",
       " 'title_localized': None,\n",
       " 'anime_url': '/anime/41380/100-man_no_Inochi_no_Ue_ni_Ore_wa_Tatteiru',\n",
       " 'anime_image_path': 'https://cdn.myanimelist.net/r/192x272/images/anime/1506/117717.jpg?s=5f303442901bfc945942e2831f67f756',\n",
       " 'is_added_to_list': False,\n",
       " 'anime_media_type_string': 'TV',\n",
       " 'anime_mpaa_rating_string': 'PG-13',\n",
       " 'start_date_string': None,\n",
       " 'finish_date_string': None,\n",
       " 'anime_start_date_string': '02-10-20',\n",
       " 'anime_end_date_string': '18-12-20',\n",
       " 'days_string': None,\n",
       " 'storage_string': '',\n",
       " 'priority_string': 'Low',\n",
       " 'notes': '',\n",
       " 'editable_notes': ''}"
      ]
     },
     "execution_count": 7,
     "metadata": {},
     "output_type": "execute_result"
    }
   ],
   "source": [
    "result[0] # example of one dict."
   ]
  },
  {
   "cell_type": "code",
   "execution_count": 8,
   "id": "b5cbdda9",
   "metadata": {},
   "outputs": [],
   "source": [
    "# Refined data\n",
    "result = mal_user.refined_data()"
   ]
  },
  {
   "cell_type": "code",
   "execution_count": 9,
   "id": "83b5c4a7",
   "metadata": {},
   "outputs": [
    {
     "data": {
      "text/plain": [
       "{'score': 5,\n",
       " 'anime_title': '100-man no Inochi no Ue ni Ore wa Tatteiru',\n",
       " 'anime_title_eng': \"I'm Standing on a Million Lives\",\n",
       " 'anime_season': None,\n",
       " 'anime_score_val': 6.5,\n",
       " 'genres': ['Action', 'Drama', 'Fantasy'],\n",
       " 'demographics': ['Shounen'],\n",
       " 'anime_url': '/anime/41380/100-man_no_Inochi_no_Ue_ni_Ore_wa_Tatteiru',\n",
       " 'anime_media_type_string': 'TV',\n",
       " 'anime_mpaa_rating_string': 'PG-13'}"
      ]
     },
     "execution_count": 9,
     "metadata": {},
     "output_type": "execute_result"
    }
   ],
   "source": [
    "result[0]"
   ]
  },
  {
   "cell_type": "code",
   "execution_count": 10,
   "id": "1f0aa6c5",
   "metadata": {},
   "outputs": [],
   "source": [
    "# to work around that refined data, I'm using the pandas library.\n",
    "import pandas as pd"
   ]
  },
  {
   "cell_type": "code",
   "execution_count": 11,
   "id": "2c7630ef",
   "metadata": {},
   "outputs": [],
   "source": [
    "df = pd.DataFrame(result)"
   ]
  },
  {
   "cell_type": "code",
   "execution_count": 12,
   "id": "948d198d",
   "metadata": {},
   "outputs": [
    {
     "data": {
      "text/html": [
       "<div>\n",
       "<style scoped>\n",
       "    .dataframe tbody tr th:only-of-type {\n",
       "        vertical-align: middle;\n",
       "    }\n",
       "\n",
       "    .dataframe tbody tr th {\n",
       "        vertical-align: top;\n",
       "    }\n",
       "\n",
       "    .dataframe thead th {\n",
       "        text-align: right;\n",
       "    }\n",
       "</style>\n",
       "<table border=\"1\" class=\"dataframe\">\n",
       "  <thead>\n",
       "    <tr style=\"text-align: right;\">\n",
       "      <th></th>\n",
       "      <th>score</th>\n",
       "      <th>anime_title</th>\n",
       "      <th>anime_title_eng</th>\n",
       "      <th>anime_season</th>\n",
       "      <th>anime_score_val</th>\n",
       "      <th>genres</th>\n",
       "      <th>demographics</th>\n",
       "      <th>anime_url</th>\n",
       "      <th>anime_media_type_string</th>\n",
       "      <th>anime_mpaa_rating_string</th>\n",
       "    </tr>\n",
       "  </thead>\n",
       "  <tbody>\n",
       "    <tr>\n",
       "      <th>0</th>\n",
       "      <td>5</td>\n",
       "      <td>100-man no Inochi no Ue ni Ore wa Tatteiru</td>\n",
       "      <td>I'm Standing on a Million Lives</td>\n",
       "      <td>None</td>\n",
       "      <td>6.50</td>\n",
       "      <td>[Action, Drama, Fantasy]</td>\n",
       "      <td>[Shounen]</td>\n",
       "      <td>/anime/41380/100-man_no_Inochi_no_Ue_ni_Ore_wa...</td>\n",
       "      <td>TV</td>\n",
       "      <td>PG-13</td>\n",
       "    </tr>\n",
       "    <tr>\n",
       "      <th>1</th>\n",
       "      <td>8</td>\n",
       "      <td>86</td>\n",
       "      <td>86 Eighty Six</td>\n",
       "      <td>None</td>\n",
       "      <td>8.27</td>\n",
       "      <td>[Action, Drama, Sci-Fi]</td>\n",
       "      <td>[]</td>\n",
       "      <td>/anime/41457/86</td>\n",
       "      <td>TV</td>\n",
       "      <td>R</td>\n",
       "    </tr>\n",
       "    <tr>\n",
       "      <th>2</th>\n",
       "      <td>8</td>\n",
       "      <td>86 Part 2</td>\n",
       "      <td>86 Eighty-Six Part 2</td>\n",
       "      <td>None</td>\n",
       "      <td>8.71</td>\n",
       "      <td>[Action, Drama, Sci-Fi]</td>\n",
       "      <td>[]</td>\n",
       "      <td>/anime/48569/86_Part_2</td>\n",
       "      <td>TV</td>\n",
       "      <td>R</td>\n",
       "    </tr>\n",
       "    <tr>\n",
       "      <th>3</th>\n",
       "      <td>6</td>\n",
       "      <td>Accel World</td>\n",
       "      <td>Accel World</td>\n",
       "      <td>None</td>\n",
       "      <td>7.23</td>\n",
       "      <td>[Action, Romance, Sci-Fi]</td>\n",
       "      <td>[]</td>\n",
       "      <td>/anime/11759/Accel_World</td>\n",
       "      <td>TV</td>\n",
       "      <td>PG-13</td>\n",
       "    </tr>\n",
       "    <tr>\n",
       "      <th>4</th>\n",
       "      <td>8</td>\n",
       "      <td>Akame ga Kill!</td>\n",
       "      <td>Akame ga Kill!</td>\n",
       "      <td>None</td>\n",
       "      <td>7.47</td>\n",
       "      <td>[Action, Fantasy]</td>\n",
       "      <td>[Shounen]</td>\n",
       "      <td>/anime/22199/Akame_ga_Kill</td>\n",
       "      <td>TV</td>\n",
       "      <td>R</td>\n",
       "    </tr>\n",
       "  </tbody>\n",
       "</table>\n",
       "</div>"
      ],
      "text/plain": [
       "   score                                 anime_title  \\\n",
       "0      5  100-man no Inochi no Ue ni Ore wa Tatteiru   \n",
       "1      8                                          86   \n",
       "2      8                                   86 Part 2   \n",
       "3      6                                 Accel World   \n",
       "4      8                              Akame ga Kill!   \n",
       "\n",
       "                   anime_title_eng anime_season  anime_score_val  \\\n",
       "0  I'm Standing on a Million Lives         None             6.50   \n",
       "1                    86 Eighty Six         None             8.27   \n",
       "2             86 Eighty-Six Part 2         None             8.71   \n",
       "3                      Accel World         None             7.23   \n",
       "4                   Akame ga Kill!         None             7.47   \n",
       "\n",
       "                      genres demographics  \\\n",
       "0   [Action, Drama, Fantasy]    [Shounen]   \n",
       "1    [Action, Drama, Sci-Fi]           []   \n",
       "2    [Action, Drama, Sci-Fi]           []   \n",
       "3  [Action, Romance, Sci-Fi]           []   \n",
       "4          [Action, Fantasy]    [Shounen]   \n",
       "\n",
       "                                           anime_url anime_media_type_string  \\\n",
       "0  /anime/41380/100-man_no_Inochi_no_Ue_ni_Ore_wa...                      TV   \n",
       "1                                    /anime/41457/86                      TV   \n",
       "2                             /anime/48569/86_Part_2                      TV   \n",
       "3                           /anime/11759/Accel_World                      TV   \n",
       "4                         /anime/22199/Akame_ga_Kill                      TV   \n",
       "\n",
       "  anime_mpaa_rating_string  \n",
       "0                    PG-13  \n",
       "1                        R  \n",
       "2                        R  \n",
       "3                    PG-13  \n",
       "4                        R  "
      ]
     },
     "execution_count": 12,
     "metadata": {},
     "output_type": "execute_result"
    }
   ],
   "source": [
    "df.head(5)"
   ]
  },
  {
   "cell_type": "code",
   "execution_count": 13,
   "id": "d81738b3",
   "metadata": {},
   "outputs": [],
   "source": [
    "# the first step here is to \"expand\" the genres column. So we can have hot encoded columns for each genre."
   ]
  },
  {
   "cell_type": "code",
   "execution_count": 24,
   "id": "f716e20d",
   "metadata": {},
   "outputs": [
    {
     "data": {
      "text/plain": [
       "array(['Action', 'Drama', 'Fantasy', 'Sci-Fi', 'Romance', 'Adventure',\n",
       "       'Supernatural', 'Horror', 'Mystery', 'Comedy', 'Suspense',\n",
       "       'Sports', 'Award Winning', 'Ecchi', 'Slice of Life', 'Girls Love',\n",
       "       'Avant Garde'], dtype=object)"
      ]
     },
     "execution_count": 24,
     "metadata": {},
     "output_type": "execute_result"
    }
   ],
   "source": []
  },
  {
   "cell_type": "code",
   "execution_count": 20,
   "id": "1167d305",
   "metadata": {},
   "outputs": [],
   "source": [
    "df = df.join(pd.crosstab((s:=df['genres'].explode()).index, s))"
   ]
  },
  {
   "cell_type": "code",
   "execution_count": 26,
   "id": "534c8b36",
   "metadata": {},
   "outputs": [],
   "source": [
    "# showing the created columns"
   ]
  },
  {
   "cell_type": "code",
   "execution_count": 22,
   "id": "52b54f56",
   "metadata": {},
   "outputs": [
    {
     "data": {
      "text/plain": [
       "Index(['score', 'anime_title', 'anime_title_eng', 'anime_season',\n",
       "       'anime_score_val', 'genres', 'demographics', 'anime_url',\n",
       "       'anime_media_type_string', 'anime_mpaa_rating_string', 'Action',\n",
       "       'Adventure', 'Avant Garde', 'Award Winning', 'Comedy', 'Drama', 'Ecchi',\n",
       "       'Fantasy', 'Girls Love', 'Horror', 'Mystery', 'Romance', 'Sci-Fi',\n",
       "       'Slice of Life', 'Sports', 'Supernatural', 'Suspense'],\n",
       "      dtype='object')"
      ]
     },
     "execution_count": 22,
     "metadata": {},
     "output_type": "execute_result"
    }
   ],
   "source": [
    "df.columns"
   ]
  },
  {
   "cell_type": "code",
   "execution_count": 25,
   "id": "183820b0",
   "metadata": {},
   "outputs": [
    {
     "data": {
      "text/html": [
       "<div>\n",
       "<style scoped>\n",
       "    .dataframe tbody tr th:only-of-type {\n",
       "        vertical-align: middle;\n",
       "    }\n",
       "\n",
       "    .dataframe tbody tr th {\n",
       "        vertical-align: top;\n",
       "    }\n",
       "\n",
       "    .dataframe thead th {\n",
       "        text-align: right;\n",
       "    }\n",
       "</style>\n",
       "<table border=\"1\" class=\"dataframe\">\n",
       "  <thead>\n",
       "    <tr style=\"text-align: right;\">\n",
       "      <th></th>\n",
       "      <th>Action</th>\n",
       "      <th>Drama</th>\n",
       "      <th>Fantasy</th>\n",
       "      <th>Sci-Fi</th>\n",
       "      <th>Romance</th>\n",
       "      <th>Adventure</th>\n",
       "      <th>Supernatural</th>\n",
       "      <th>Horror</th>\n",
       "      <th>Mystery</th>\n",
       "      <th>Comedy</th>\n",
       "      <th>Suspense</th>\n",
       "      <th>Sports</th>\n",
       "      <th>Award Winning</th>\n",
       "      <th>Ecchi</th>\n",
       "      <th>Slice of Life</th>\n",
       "      <th>Girls Love</th>\n",
       "      <th>Avant Garde</th>\n",
       "    </tr>\n",
       "  </thead>\n",
       "  <tbody>\n",
       "    <tr>\n",
       "      <th>0</th>\n",
       "      <td>1</td>\n",
       "      <td>1</td>\n",
       "      <td>1</td>\n",
       "      <td>0</td>\n",
       "      <td>0</td>\n",
       "      <td>0</td>\n",
       "      <td>0</td>\n",
       "      <td>0</td>\n",
       "      <td>0</td>\n",
       "      <td>0</td>\n",
       "      <td>0</td>\n",
       "      <td>0</td>\n",
       "      <td>0</td>\n",
       "      <td>0</td>\n",
       "      <td>0</td>\n",
       "      <td>0</td>\n",
       "      <td>0</td>\n",
       "    </tr>\n",
       "    <tr>\n",
       "      <th>1</th>\n",
       "      <td>1</td>\n",
       "      <td>1</td>\n",
       "      <td>0</td>\n",
       "      <td>1</td>\n",
       "      <td>0</td>\n",
       "      <td>0</td>\n",
       "      <td>0</td>\n",
       "      <td>0</td>\n",
       "      <td>0</td>\n",
       "      <td>0</td>\n",
       "      <td>0</td>\n",
       "      <td>0</td>\n",
       "      <td>0</td>\n",
       "      <td>0</td>\n",
       "      <td>0</td>\n",
       "      <td>0</td>\n",
       "      <td>0</td>\n",
       "    </tr>\n",
       "    <tr>\n",
       "      <th>2</th>\n",
       "      <td>1</td>\n",
       "      <td>1</td>\n",
       "      <td>0</td>\n",
       "      <td>1</td>\n",
       "      <td>0</td>\n",
       "      <td>0</td>\n",
       "      <td>0</td>\n",
       "      <td>0</td>\n",
       "      <td>0</td>\n",
       "      <td>0</td>\n",
       "      <td>0</td>\n",
       "      <td>0</td>\n",
       "      <td>0</td>\n",
       "      <td>0</td>\n",
       "      <td>0</td>\n",
       "      <td>0</td>\n",
       "      <td>0</td>\n",
       "    </tr>\n",
       "    <tr>\n",
       "      <th>3</th>\n",
       "      <td>1</td>\n",
       "      <td>0</td>\n",
       "      <td>0</td>\n",
       "      <td>1</td>\n",
       "      <td>1</td>\n",
       "      <td>0</td>\n",
       "      <td>0</td>\n",
       "      <td>0</td>\n",
       "      <td>0</td>\n",
       "      <td>0</td>\n",
       "      <td>0</td>\n",
       "      <td>0</td>\n",
       "      <td>0</td>\n",
       "      <td>0</td>\n",
       "      <td>0</td>\n",
       "      <td>0</td>\n",
       "      <td>0</td>\n",
       "    </tr>\n",
       "    <tr>\n",
       "      <th>4</th>\n",
       "      <td>1</td>\n",
       "      <td>0</td>\n",
       "      <td>1</td>\n",
       "      <td>0</td>\n",
       "      <td>0</td>\n",
       "      <td>0</td>\n",
       "      <td>0</td>\n",
       "      <td>0</td>\n",
       "      <td>0</td>\n",
       "      <td>0</td>\n",
       "      <td>0</td>\n",
       "      <td>0</td>\n",
       "      <td>0</td>\n",
       "      <td>0</td>\n",
       "      <td>0</td>\n",
       "      <td>0</td>\n",
       "      <td>0</td>\n",
       "    </tr>\n",
       "    <tr>\n",
       "      <th>...</th>\n",
       "      <td>...</td>\n",
       "      <td>...</td>\n",
       "      <td>...</td>\n",
       "      <td>...</td>\n",
       "      <td>...</td>\n",
       "      <td>...</td>\n",
       "      <td>...</td>\n",
       "      <td>...</td>\n",
       "      <td>...</td>\n",
       "      <td>...</td>\n",
       "      <td>...</td>\n",
       "      <td>...</td>\n",
       "      <td>...</td>\n",
       "      <td>...</td>\n",
       "      <td>...</td>\n",
       "      <td>...</td>\n",
       "      <td>...</td>\n",
       "    </tr>\n",
       "    <tr>\n",
       "      <th>260</th>\n",
       "      <td>0</td>\n",
       "      <td>0</td>\n",
       "      <td>1</td>\n",
       "      <td>0</td>\n",
       "      <td>1</td>\n",
       "      <td>1</td>\n",
       "      <td>0</td>\n",
       "      <td>0</td>\n",
       "      <td>0</td>\n",
       "      <td>0</td>\n",
       "      <td>0</td>\n",
       "      <td>0</td>\n",
       "      <td>0</td>\n",
       "      <td>1</td>\n",
       "      <td>0</td>\n",
       "      <td>0</td>\n",
       "      <td>0</td>\n",
       "    </tr>\n",
       "    <tr>\n",
       "      <th>261</th>\n",
       "      <td>1</td>\n",
       "      <td>0</td>\n",
       "      <td>1</td>\n",
       "      <td>0</td>\n",
       "      <td>1</td>\n",
       "      <td>1</td>\n",
       "      <td>0</td>\n",
       "      <td>0</td>\n",
       "      <td>0</td>\n",
       "      <td>1</td>\n",
       "      <td>0</td>\n",
       "      <td>0</td>\n",
       "      <td>0</td>\n",
       "      <td>1</td>\n",
       "      <td>0</td>\n",
       "      <td>0</td>\n",
       "      <td>0</td>\n",
       "    </tr>\n",
       "    <tr>\n",
       "      <th>262</th>\n",
       "      <td>1</td>\n",
       "      <td>0</td>\n",
       "      <td>1</td>\n",
       "      <td>0</td>\n",
       "      <td>1</td>\n",
       "      <td>1</td>\n",
       "      <td>0</td>\n",
       "      <td>0</td>\n",
       "      <td>0</td>\n",
       "      <td>1</td>\n",
       "      <td>0</td>\n",
       "      <td>0</td>\n",
       "      <td>0</td>\n",
       "      <td>1</td>\n",
       "      <td>0</td>\n",
       "      <td>0</td>\n",
       "      <td>0</td>\n",
       "    </tr>\n",
       "    <tr>\n",
       "      <th>263</th>\n",
       "      <td>1</td>\n",
       "      <td>1</td>\n",
       "      <td>1</td>\n",
       "      <td>0</td>\n",
       "      <td>0</td>\n",
       "      <td>0</td>\n",
       "      <td>0</td>\n",
       "      <td>0</td>\n",
       "      <td>1</td>\n",
       "      <td>0</td>\n",
       "      <td>0</td>\n",
       "      <td>0</td>\n",
       "      <td>0</td>\n",
       "      <td>0</td>\n",
       "      <td>0</td>\n",
       "      <td>0</td>\n",
       "      <td>0</td>\n",
       "    </tr>\n",
       "    <tr>\n",
       "      <th>264</th>\n",
       "      <td>0</td>\n",
       "      <td>1</td>\n",
       "      <td>0</td>\n",
       "      <td>0</td>\n",
       "      <td>0</td>\n",
       "      <td>0</td>\n",
       "      <td>1</td>\n",
       "      <td>0</td>\n",
       "      <td>0</td>\n",
       "      <td>0</td>\n",
       "      <td>0</td>\n",
       "      <td>0</td>\n",
       "      <td>0</td>\n",
       "      <td>0</td>\n",
       "      <td>1</td>\n",
       "      <td>0</td>\n",
       "      <td>0</td>\n",
       "    </tr>\n",
       "  </tbody>\n",
       "</table>\n",
       "<p>265 rows × 17 columns</p>\n",
       "</div>"
      ],
      "text/plain": [
       "     Action  Drama  Fantasy  Sci-Fi  Romance  Adventure  Supernatural  Horror  \\\n",
       "0         1      1        1       0        0          0             0       0   \n",
       "1         1      1        0       1        0          0             0       0   \n",
       "2         1      1        0       1        0          0             0       0   \n",
       "3         1      0        0       1        1          0             0       0   \n",
       "4         1      0        1       0        0          0             0       0   \n",
       "..      ...    ...      ...     ...      ...        ...           ...     ...   \n",
       "260       0      0        1       0        1          1             0       0   \n",
       "261       1      0        1       0        1          1             0       0   \n",
       "262       1      0        1       0        1          1             0       0   \n",
       "263       1      1        1       0        0          0             0       0   \n",
       "264       0      1        0       0        0          0             1       0   \n",
       "\n",
       "     Mystery  Comedy  Suspense  Sports  Award Winning  Ecchi  Slice of Life  \\\n",
       "0          0       0         0       0              0      0              0   \n",
       "1          0       0         0       0              0      0              0   \n",
       "2          0       0         0       0              0      0              0   \n",
       "3          0       0         0       0              0      0              0   \n",
       "4          0       0         0       0              0      0              0   \n",
       "..       ...     ...       ...     ...            ...    ...            ...   \n",
       "260        0       0         0       0              0      1              0   \n",
       "261        0       1         0       0              0      1              0   \n",
       "262        0       1         0       0              0      1              0   \n",
       "263        1       0         0       0              0      0              0   \n",
       "264        0       0         0       0              0      0              1   \n",
       "\n",
       "     Girls Love  Avant Garde  \n",
       "0             0            0  \n",
       "1             0            0  \n",
       "2             0            0  \n",
       "3             0            0  \n",
       "4             0            0  \n",
       "..          ...          ...  \n",
       "260           0            0  \n",
       "261           0            0  \n",
       "262           0            0  \n",
       "263           0            0  \n",
       "264           0            0  \n",
       "\n",
       "[265 rows x 17 columns]"
      ]
     },
     "execution_count": 25,
     "metadata": {},
     "output_type": "execute_result"
    }
   ],
   "source": [
    "df[df['genres'].explode().unique()]"
   ]
  },
  {
   "cell_type": "code",
   "execution_count": null,
   "id": "15aa5b57",
   "metadata": {},
   "outputs": [],
   "source": [
    "# from what ive been looking and training the data, those columns are really not useful for classifying which anime to watch next.\n",
    "# this is where i started to think about using the tags from anilist."
   ]
  },
  {
   "cell_type": "code",
   "execution_count": 27,
   "id": "bc1230a5",
   "metadata": {},
   "outputs": [],
   "source": [
    "from AniList_extractor import AniList"
   ]
  },
  {
   "cell_type": "code",
   "execution_count": 30,
   "id": "d3880360",
   "metadata": {},
   "outputs": [],
   "source": [
    "AniL = AniList({'search':'Ijiranaide, Nagatoro-san'})"
   ]
  },
  {
   "cell_type": "code",
   "execution_count": 31,
   "id": "f2cbcd6c",
   "metadata": {},
   "outputs": [],
   "source": [
    "AniListResult = AniL.get_json()"
   ]
  },
  {
   "cell_type": "code",
   "execution_count": null,
   "id": "bf74a8cc",
   "metadata": {},
   "outputs": [],
   "source": [
    "# just a example getting one anime from anilist.\n",
    "# there's way more information in genres and tags which might be way more useful for a model."
   ]
  },
  {
   "cell_type": "code",
   "execution_count": 32,
   "id": "bf69e815",
   "metadata": {},
   "outputs": [
    {
     "data": {
      "text/plain": [
       "{'data': {'Page': {'pageInfo': {'total': 2,\n",
       "    'currentPage': 1,\n",
       "    'lastPage': 1,\n",
       "    'hasNextPage': False,\n",
       "    'perPage': 10},\n",
       "   'media': [{'genres': ['Comedy', 'Romance', 'Slice of Life'],\n",
       "     'id': 120697,\n",
       "     'idMal': 42361,\n",
       "     'status': 'FINISHED',\n",
       "     'seasonInt': 212,\n",
       "     'averageScore': 71,\n",
       "     'tags': [{'name': 'Slapstick', 'rank': 92, 'category': 'Theme-Comedy'},\n",
       "      {'name': 'Bullying', 'rank': 88, 'category': 'Theme-Drama'},\n",
       "      {'name': 'School', 'rank': 86, 'category': 'Setting-Scene'},\n",
       "      {'name': 'Tsundere', 'rank': 85, 'category': 'Cast-Traits'},\n",
       "      {'name': 'Episodic', 'rank': 84, 'category': 'Technical'},\n",
       "      {'name': 'Heterosexual', 'rank': 84, 'category': 'Theme-Romance'},\n",
       "      {'name': 'Tanned Skin', 'rank': 80, 'category': 'Cast-Traits'},\n",
       "      {'name': 'Male Protagonist', 'rank': 79, 'category': 'Cast-Main Cast'},\n",
       "      {'name': 'Primarily Teen Cast',\n",
       "       'rank': 78,\n",
       "       'category': 'Cast-Main Cast'},\n",
       "      {'name': 'School Club', 'rank': 76, 'category': 'Setting-Scene'},\n",
       "      {'name': 'Gyaru', 'rank': 76, 'category': 'Cast-Traits'},\n",
       "      {'name': 'Drawing', 'rank': 74, 'category': 'Theme-Arts'},\n",
       "      {'name': 'Shounen', 'rank': 68, 'category': 'Demographic'},\n",
       "      {'name': 'Yandere', 'rank': 54, 'category': 'Cast-Traits'},\n",
       "      {'name': 'Tomboy', 'rank': 46, 'category': 'Cast-Traits'},\n",
       "      {'name': 'Nekomimi', 'rank': 40, 'category': 'Cast-Traits'}],\n",
       "     'title': {'romaji': 'Ijiranaide, Nagatoro-san',\n",
       "      'english': \"DON'T TOY WITH ME, MISS NAGATORO\",\n",
       "      'userPreferred': 'Ijiranaide, Nagatoro-san'}},\n",
       "    {'genres': ['Comedy', 'Romance', 'Slice of Life'],\n",
       "     'id': 140596,\n",
       "     'idMal': 50197,\n",
       "     'status': 'RELEASING',\n",
       "     'seasonInt': 231,\n",
       "     'averageScore': 72,\n",
       "     'tags': [{'name': 'Heterosexual',\n",
       "       'rank': 94,\n",
       "       'category': 'Theme-Romance'},\n",
       "      {'name': 'School', 'rank': 91, 'category': 'Setting-Scene'},\n",
       "      {'name': 'Slapstick', 'rank': 88, 'category': 'Theme-Comedy'},\n",
       "      {'name': 'Drawing', 'rank': 79, 'category': 'Theme-Arts'},\n",
       "      {'name': 'Tsundere', 'rank': 78, 'category': 'Cast-Traits'},\n",
       "      {'name': 'Tanned Skin', 'rank': 70, 'category': 'Cast-Traits'},\n",
       "      {'name': 'Bullying', 'rank': 66, 'category': 'Theme-Drama'},\n",
       "      {'name': 'Tomboy', 'rank': 60, 'category': 'Cast-Traits'},\n",
       "      {'name': 'School Club', 'rank': 45, 'category': 'Setting-Scene'},\n",
       "      {'name': 'Shounen', 'rank': 30, 'category': 'Demographic'}],\n",
       "     'title': {'romaji': 'Ijiranaide, Nagatoro-san 2nd Attack',\n",
       "      'english': \"DON'T TOY WITH ME, MISS NAGATORO 2nd Attack\",\n",
       "      'userPreferred': 'Ijiranaide, Nagatoro-san 2nd Attack'}}]}}}"
      ]
     },
     "execution_count": 32,
     "metadata": {},
     "output_type": "execute_result"
    }
   ],
   "source": [
    "AniListResult"
   ]
  },
  {
   "cell_type": "code",
   "execution_count": null,
   "id": "3283b191",
   "metadata": {},
   "outputs": [],
   "source": [
    "# from here its the time to do some exploration and define the target. I'll create another notebook other time exploring models."
   ]
  },
  {
   "cell_type": "code",
   "execution_count": null,
   "id": "6e155848",
   "metadata": {},
   "outputs": [],
   "source": []
  }
 ],
 "metadata": {
  "kernelspec": {
   "display_name": "project_based",
   "language": "python",
   "name": "python3"
  },
  "language_info": {
   "codemirror_mode": {
    "name": "ipython",
    "version": 3
   },
   "file_extension": ".py",
   "mimetype": "text/x-python",
   "name": "python",
   "nbconvert_exporter": "python",
   "pygments_lexer": "ipython3",
   "version": "3.10.9"
  },
  "vscode": {
   "interpreter": {
    "hash": "9e767182b5ccd056ef97aa2a94e5ed12059f98b06a6450ba11fa1d78a5683340"
   }
  }
 },
 "nbformat": 4,
 "nbformat_minor": 5
}
