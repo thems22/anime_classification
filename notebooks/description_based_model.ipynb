{
 "cells": [
  {
   "cell_type": "code",
   "execution_count": 15,
   "metadata": {},
   "outputs": [],
   "source": [
    "from AniList_extractor import AniListUser\n",
    "import pandas as pd\n",
    "import numpy as np\n",
    "\n",
    "from sklearn.feature_extraction.text import TfidfVectorizer\n",
    "from sklearn.metrics.pairwise import linear_kernel"
   ]
  },
  {
   "cell_type": "code",
   "execution_count": 2,
   "metadata": {},
   "outputs": [],
   "source": [
    "df_completed, df_plan_to_watch = AniListUser('thems22').get_dfs()"
   ]
  },
  {
   "cell_type": "code",
   "execution_count": 29,
   "metadata": {},
   "outputs": [],
   "source": [
    "df_plan_to_watch['english'] = np.where(df_plan_to_watch['english'].isna(), df_plan_to_watch['romaji'], df_plan_to_watch['english'])\n",
    "df_plan_to_watch = df_plan_to_watch.dropna()\n",
    "\n",
    "df_completed['english'] = np.where(df_completed['english'].isna(), df_completed['romaji'], df_completed['english'])"
   ]
  },
  {
   "cell_type": "code",
   "execution_count": 30,
   "metadata": {},
   "outputs": [
    {
     "name": "stderr",
     "output_type": "stream",
     "text": [
      "/tmp/ipykernel_964/3464976671.py:2: SettingWithCopyWarning: \n",
      "A value is trying to be set on a copy of a slice from a DataFrame.\n",
      "Try using .loc[row_indexer,col_indexer] = value instead\n",
      "\n",
      "See the caveats in the documentation: https://pandas.pydata.org/pandas-docs/stable/user_guide/indexing.html#returning-a-view-versus-a-copy\n",
      "  df_plan_to_watch['watched'] = np.int8(0)\n"
     ]
    }
   ],
   "source": [
    "df_completed['watched'] = np.int8(1)\n",
    "df_plan_to_watch['watched'] = np.int8(0)"
   ]
  },
  {
   "cell_type": "code",
   "execution_count": 94,
   "metadata": {},
   "outputs": [],
   "source": [
    "df_watched = pd.concat([df_completed[['description', 'watched', 'english']], df_plan_to_watch[['description', 'watched', 'english']]])\n",
    "df_watched = df_watched.reset_index()"
   ]
  },
  {
   "cell_type": "code",
   "execution_count": 95,
   "metadata": {},
   "outputs": [],
   "source": [
    "df_watched['description'] = df_watched['description'].str.replace('<.*?>', '', regex=True).str.replace('\\n', '')"
   ]
  },
  {
   "cell_type": "code",
   "execution_count": 96,
   "metadata": {},
   "outputs": [],
   "source": [
    "tf = TfidfVectorizer(analyzer='word', ngram_range=(1, 2), min_df=0, stop_words='english')"
   ]
  },
  {
   "cell_type": "code",
   "execution_count": 97,
   "metadata": {},
   "outputs": [],
   "source": [
    "tfidf_matrix = tf.fit_transform(df_watched['description'])"
   ]
  },
  {
   "cell_type": "code",
   "execution_count": 98,
   "metadata": {},
   "outputs": [],
   "source": [
    "cosine_sim = linear_kernel(tfidf_matrix, tfidf_matrix)"
   ]
  },
  {
   "cell_type": "code",
   "execution_count": 99,
   "metadata": {},
   "outputs": [],
   "source": [
    "max_idx = df_watched[df_watched['watched']==1].index[-1]"
   ]
  },
  {
   "cell_type": "code",
   "execution_count": 100,
   "metadata": {},
   "outputs": [],
   "source": [
    "plan_to_watch_cosine = cosine_sim[max_idx::, max_idx::].shape"
   ]
  },
  {
   "cell_type": "code",
   "execution_count": 101,
   "metadata": {},
   "outputs": [
    {
     "data": {
      "text/plain": [
       "(301, 242)"
      ]
     },
     "execution_count": 101,
     "metadata": {},
     "output_type": "execute_result"
    }
   ],
   "source": [
    "df_plan_to_watch.shape"
   ]
  },
  {
   "cell_type": "code",
   "execution_count": 102,
   "metadata": {},
   "outputs": [],
   "source": [
    "titles = df_watched['english']\n",
    "indices = pd.Series(df_watched.index, index=df_watched['english'])"
   ]
  },
  {
   "cell_type": "code",
   "execution_count": 160,
   "metadata": {},
   "outputs": [],
   "source": [
    "def get_recommendations(title, df):\n",
    "    idx = indices[title]\n",
    "    sim_scores = list(enumerate(cosine_sim[idx]))\n",
    "    sim_scores = sorted(sim_scores, key=lambda x: x[1], reverse=True)\n",
    "    sim_scores = sim_scores\n",
    "    movie_indices = [i[0] for i in sim_scores]\n",
    "    df['rank'] = pd.DataFrame(list(enumerate(movie_indices))).set_index(1)\n",
    "    df = df[df['watched']==0]\n",
    "    return df.sort_values(by='rank')['english'][0:10]"
   ]
  },
  {
   "cell_type": "code",
   "execution_count": 165,
   "metadata": {},
   "outputs": [
    {
     "data": {
      "text/html": [
       "<div>\n",
       "<style scoped>\n",
       "    .dataframe tbody tr th:only-of-type {\n",
       "        vertical-align: middle;\n",
       "    }\n",
       "\n",
       "    .dataframe tbody tr th {\n",
       "        vertical-align: top;\n",
       "    }\n",
       "\n",
       "    .dataframe thead th {\n",
       "        text-align: right;\n",
       "    }\n",
       "</style>\n",
       "<table border=\"1\" class=\"dataframe\">\n",
       "  <thead>\n",
       "    <tr style=\"text-align: right;\">\n",
       "      <th></th>\n",
       "      <th>index</th>\n",
       "      <th>description</th>\n",
       "      <th>watched</th>\n",
       "      <th>english</th>\n",
       "      <th>rank</th>\n",
       "    </tr>\n",
       "  </thead>\n",
       "  <tbody>\n",
       "    <tr>\n",
       "      <th>149</th>\n",
       "      <td>149</td>\n",
       "      <td>Rin Asogi is an immortal private detective wit...</td>\n",
       "      <td>1</td>\n",
       "      <td>RIN ~Daughters of Mnemosyne~</td>\n",
       "      <td>45</td>\n",
       "    </tr>\n",
       "    <tr>\n",
       "      <th>479</th>\n",
       "      <td>220</td>\n",
       "      <td>Why would an overworked woman want to be summo...</td>\n",
       "      <td>0</td>\n",
       "      <td>The Saint's Magic Power is Omnipotent</td>\n",
       "      <td>314</td>\n",
       "    </tr>\n",
       "  </tbody>\n",
       "</table>\n",
       "</div>"
      ],
      "text/plain": [
       "     index                                        description  watched  \\\n",
       "149    149  Rin Asogi is an immortal private detective wit...        1   \n",
       "479    220  Why would an overworked woman want to be summo...        0   \n",
       "\n",
       "                                   english  rank  \n",
       "149           RIN ~Daughters of Mnemosyne~    45  \n",
       "479  The Saint's Magic Power is Omnipotent   314  "
      ]
     },
     "execution_count": 165,
     "metadata": {},
     "output_type": "execute_result"
    }
   ],
   "source": [
    "df_watched[df_watched['english'].str.contains('mn', case=False)]"
   ]
  },
  {
   "cell_type": "code",
   "execution_count": 174,
   "metadata": {},
   "outputs": [
    {
     "data": {
      "text/plain": [
       "5                                       Yona of the Dawn\n",
       "24                             My Hero Academia Season 3\n",
       "26                                          Chainsaw Man\n",
       "27                                           Chihayafuru\n",
       "29                                         Chihayafuru 3\n",
       "33                                              Claymore\n",
       "39                      The Mystic Archives of Dantalian\n",
       "45                                          Death Parade\n",
       "47                                             Dr. STONE\n",
       "54                                         Durarara!! X2\n",
       "57                         Fate/Grand Order: First Order\n",
       "72     Legend of the Galactic Heroes: Die Neue These ...\n",
       "75                                          Golden Kamuy\n",
       "76                                 Golden Kamuy Season 2\n",
       "77                                 Golden Kamuy Season 3\n",
       "83                                              Hellsing\n",
       "87                                   High School DxD New\n",
       "88                                         When They Cry\n",
       "89                                     When They Cry Kai\n",
       "97                                             Hell Girl\n",
       "99                              Hell Girl: Three Vessels\n",
       "106                            Kaguya-sama: Love is War?\n",
       "107                                         Tower of God\n",
       "111    the Garden of sinners Chapter 4: garan-no-dou....\n",
       "113                                       The Wind Rises\n",
       "114                                                 Erin\n",
       "116                       Demon Slayer: Kimetsu no Yaiba\n",
       "117    Demon Slayer -Kimetsu no Yaiba- The Movie: Mug...\n",
       "121                       Miss Kobayashi's Dragon Maid S\n",
       "149                         RIN ~Daughters of Mnemosyne~\n",
       "154                           MUSHI-SHI The Next Passage\n",
       "157                                        MUSHI-SHI OVA\n",
       "159         Mushoku Tensei: Jobless Reincarnation Cour 2\n",
       "160                                The Seven Deadly Sins\n",
       "165                          Natsume's Book of Friends 5\n",
       "181                                          Overlord II\n",
       "182                                         Overlord III\n",
       "192             Re:ZERO -Starting Life in Another World-\n",
       "201              Maquia: When the Promised Flower Blooms\n",
       "206                                      Attack on Titan\n",
       "210                                            SHIROBAKO\n",
       "217       Steins;Gate The Movie – Load Region of Déjà Vu\n",
       "227                                  Weathering With You\n",
       "236                                            Toradora!\n",
       "238                                           Bunny Drop\n",
       "239                                         Vinland Saga\n",
       "240                                    Violet Evergarden\n",
       "248                         Yamada and the Seven Witches\n",
       "250                 Saga of Tanya the Evil - the Movie -\n",
       "251                               Classroom of the Elite\n",
       "Name: english, dtype: object"
      ]
     },
     "execution_count": 174,
     "metadata": {},
     "output_type": "execute_result"
    }
   ],
   "source": [
    "df_completed[df_completed['score']==9]['english']"
   ]
  },
  {
   "cell_type": "code",
   "execution_count": 180,
   "metadata": {},
   "outputs": [
    {
     "data": {
      "text/plain": [
       "284                                         Bartender\n",
       "509                                        Soul Eater\n",
       "497                                       Ghost Hound\n",
       "362    Eden of The East the Movie I: The King of Eden\n",
       "365                                     Hi Score Girl\n",
       "371                           Hozuki's Coolheadedness\n",
       "361                                  Eden of The East\n",
       "309                   Daily Lives of High School Boys\n",
       "458                                  Outbreak Company\n",
       "400                         Teasing Master Takagi-san\n",
       "Name: english, dtype: object"
      ]
     },
     "execution_count": 180,
     "metadata": {},
     "output_type": "execute_result"
    }
   ],
   "source": [
    "get_recommendations(\"Death Parade\", df_watched)"
   ]
  },
  {
   "cell_type": "code",
   "execution_count": null,
   "metadata": {},
   "outputs": [],
   "source": []
  }
 ],
 "metadata": {
  "kernelspec": {
   "display_name": "project_based",
   "language": "python",
   "name": "python3"
  },
  "language_info": {
   "codemirror_mode": {
    "name": "ipython",
    "version": 3
   },
   "file_extension": ".py",
   "mimetype": "text/x-python",
   "name": "python",
   "nbconvert_exporter": "python",
   "pygments_lexer": "ipython3",
   "version": "3.10.9 (main, Dec  7 2022, 01:12:00) [GCC 9.4.0]"
  },
  "orig_nbformat": 4,
  "vscode": {
   "interpreter": {
    "hash": "9e767182b5ccd056ef97aa2a94e5ed12059f98b06a6450ba11fa1d78a5683340"
   }
  }
 },
 "nbformat": 4,
 "nbformat_minor": 2
}
