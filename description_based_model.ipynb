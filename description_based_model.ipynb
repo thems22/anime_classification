{
 "cells": [
  {
   "cell_type": "code",
   "execution_count": 15,
   "metadata": {},
   "outputs": [],
   "source": [
    "from AniList_extractor import AniListUser\n",
    "import pandas as pd\n",
    "import numpy as np\n",
    "\n",
    "from sklearn.feature_extraction.text import TfidfVectorizer\n",
    "from sklearn.metrics.pairwise import linear_kernel"
   ]
  },
  {
   "cell_type": "code",
   "execution_count": 2,
   "metadata": {},
   "outputs": [],
   "source": [
    "df_completed, df_plan_to_watch = AniListUser('thems22').get_dfs()"
   ]
  },
  {
   "cell_type": "code",
   "execution_count": 29,
   "metadata": {},
   "outputs": [],
   "source": [
    "df_plan_to_watch['english'] = np.where(df_plan_to_watch['english'].isna(), df_plan_to_watch['romaji'], df_plan_to_watch['english'])\n",
    "df_plan_to_watch = df_plan_to_watch.dropna()\n",
    "\n",
    "df_completed['english'] = np.where(df_completed['english'].isna(), df_completed['romaji'], df_completed['english'])"
   ]
  },
  {
   "cell_type": "code",
   "execution_count": 30,
   "metadata": {},
   "outputs": [
    {
     "name": "stderr",
     "output_type": "stream",
     "text": [
      "/tmp/ipykernel_964/3464976671.py:2: SettingWithCopyWarning: \n",
      "A value is trying to be set on a copy of a slice from a DataFrame.\n",
      "Try using .loc[row_indexer,col_indexer] = value instead\n",
      "\n",
      "See the caveats in the documentation: https://pandas.pydata.org/pandas-docs/stable/user_guide/indexing.html#returning-a-view-versus-a-copy\n",
      "  df_plan_to_watch['watched'] = np.int8(0)\n"
     ]
    }
   ],
   "source": [
    "df_completed['watched'] = np.int8(1)\n",
    "df_plan_to_watch['watched'] = np.int8(0)"
   ]
  },
  {
   "cell_type": "code",
   "execution_count": 94,
   "metadata": {},
   "outputs": [],
   "source": [
    "df_watched = pd.concat([df_completed[['description', 'watched', 'english']], df_plan_to_watch[['description', 'watched', 'english']]])\n",
    "df_watched = df_watched.reset_index()"
   ]
  },
  {
   "cell_type": "code",
   "execution_count": 95,
   "metadata": {},
   "outputs": [],
   "source": [
    "df_watched['description'] = df_watched['description'].str.replace('<.*?>', '', regex=True).str.replace('\\n', '')"
   ]
  },
  {
   "cell_type": "code",
   "execution_count": 96,
   "metadata": {},
   "outputs": [],
   "source": [
    "tf = TfidfVectorizer(analyzer='word', ngram_range=(1, 2), min_df=0, stop_words='english')"
   ]
  },
  {
   "cell_type": "code",
   "execution_count": 97,
   "metadata": {},
   "outputs": [],
   "source": [
    "tfidf_matrix = tf.fit_transform(df_watched['description'])"
   ]
  },
  {
   "cell_type": "code",
   "execution_count": 98,
   "metadata": {},
   "outputs": [],
   "source": [
    "cosine_sim = linear_kernel(tfidf_matrix, tfidf_matrix)"
   ]
  },
  {
   "cell_type": "code",
   "execution_count": 99,
   "metadata": {},
   "outputs": [],
   "source": [
    "max_idx = df_watched[df_watched['watched']==1].index[-1]"
   ]
  },
  {
   "cell_type": "code",
   "execution_count": 100,
   "metadata": {},
   "outputs": [],
   "source": [
    "plan_to_watch_cosine = cosine_sim[max_idx::, max_idx::].shape"
   ]
  },
  {
   "cell_type": "code",
   "execution_count": 101,
   "metadata": {},
   "outputs": [
    {
     "data": {
      "text/plain": [
       "(301, 242)"
      ]
     },
     "execution_count": 101,
     "metadata": {},
     "output_type": "execute_result"
    }
   ],
   "source": [
    "df_plan_to_watch.shape"
   ]
  },
  {
   "cell_type": "code",
   "execution_count": 102,
   "metadata": {},
   "outputs": [],
   "source": [
    "titles = df_watched['english']\n",
    "indices = pd.Series(df_watched.index, index=df_watched['english'])"
   ]
  },
  {
   "cell_type": "code",
   "execution_count": 119,
   "metadata": {},
   "outputs": [],
   "source": [
    "def get_recommendations(title, df):\n",
    "    idx = indices[title]\n",
    "    sim_scores = list(enumerate(cosine_sim[idx]))\n",
    "    sim_scores = sorted(sim_scores, key=lambda x: x[1], reverse=True)\n",
    "    sim_scores = sim_scores\n",
    "    movie_indices = [i[0] for i in sim_scores]\n",
    "    df['rank'] = pd.DataFrame(list(enumerate(movie_indices))).set_index(1)\n",
    "    df = df[df['watched']==0]\n",
    "    return df.sort_values(by='rank')['english'][0:30]"
   ]
  },
  {
   "cell_type": "code",
   "execution_count": 137,
   "metadata": {},
   "outputs": [
    {
     "data": {
      "text/html": [
       "<div>\n",
       "<style scoped>\n",
       "    .dataframe tbody tr th:only-of-type {\n",
       "        vertical-align: middle;\n",
       "    }\n",
       "\n",
       "    .dataframe tbody tr th {\n",
       "        vertical-align: top;\n",
       "    }\n",
       "\n",
       "    .dataframe thead th {\n",
       "        text-align: right;\n",
       "    }\n",
       "</style>\n",
       "<table border=\"1\" class=\"dataframe\">\n",
       "  <thead>\n",
       "    <tr style=\"text-align: right;\">\n",
       "      <th></th>\n",
       "      <th>index</th>\n",
       "      <th>description</th>\n",
       "      <th>watched</th>\n",
       "      <th>english</th>\n",
       "      <th>rank</th>\n",
       "    </tr>\n",
       "  </thead>\n",
       "  <tbody>\n",
       "    <tr>\n",
       "      <th>162</th>\n",
       "      <td>162</td>\n",
       "      <td>Naruto Uzumaki, a hyperactive and knuckle-head...</td>\n",
       "      <td>1</td>\n",
       "      <td>Naruto</td>\n",
       "      <td>262</td>\n",
       "    </tr>\n",
       "    <tr>\n",
       "      <th>163</th>\n",
       "      <td>163</td>\n",
       "      <td>Naruto: Shippuuden is the continuation of the ...</td>\n",
       "      <td>1</td>\n",
       "      <td>Naruto: Shippuden</td>\n",
       "      <td>71</td>\n",
       "    </tr>\n",
       "  </tbody>\n",
       "</table>\n",
       "</div>"
      ],
      "text/plain": [
       "     index                                        description  watched  \\\n",
       "162    162  Naruto Uzumaki, a hyperactive and knuckle-head...        1   \n",
       "163    163  Naruto: Shippuuden is the continuation of the ...        1   \n",
       "\n",
       "               english  rank  \n",
       "162             Naruto   262  \n",
       "163  Naruto: Shippuden    71  "
      ]
     },
     "execution_count": 137,
     "metadata": {},
     "output_type": "execute_result"
    }
   ],
   "source": [
    "df_watched[df_watched['english'].str.contains('naruto', case=False)]"
   ]
  },
  {
   "cell_type": "code",
   "execution_count": 143,
   "metadata": {},
   "outputs": [
    {
     "data": {
      "text/plain": [
       "6                                           ALDNOAH.ZERO\n",
       "9                                                Another\n",
       "11                                         Blue Exorcist\n",
       "12                           The Heroic Legend of Arslan\n",
       "18                                          Black Lagoon\n",
       "30                                               Clannad\n",
       "31                                  Clannad: After Story\n",
       "44                                            Death Note\n",
       "59     Fate/stay night [Heaven's Feel] I. presage flower\n",
       "60     Fate/stay night [Heaven's Feel] II. lost butte...\n",
       "61      Fate/stay night [Heaven’s Feel] III. spring song\n",
       "64                                             Fate/Zero\n",
       "68     Fullmetal Alchemist: The Movie - Conqueror of ...\n",
       "74                        GOBLIN SLAYER -GOBLIN’S CROWN-\n",
       "81                                        Haibane Renmei\n",
       "86                                  High School DxD BorN\n",
       "92                                Hunter x Hunter (2011)\n",
       "93                                                Hyouka\n",
       "98                                Hell Girl: Two Mirrors\n",
       "102                                     JUJUTSU KAISEN 0\n",
       "108    the Garden of sinners Chapter 1: Thanatos. (Ov...\n",
       "119                                 Parasyte -the maxim-\n",
       "124                                       After the Rain\n",
       "128                    The Troubled Life of Miss Kotoura\n",
       "132                                         Black Butler\n",
       "134                                           In/Spectre\n",
       "137                                        Log Horizon 2\n",
       "138          Log Horizon: Destruction of the Round Table\n",
       "143                   The Irregular at Magic High School\n",
       "146               Wandering Witch: The Journey of Elaina\n",
       "161    The Seven Deadly Sins: Revival of the Commandm...\n",
       "162                                               Naruto\n",
       "163                                    Naruto: Shippuden\n",
       "169                                 Alderamin on the Sky\n",
       "171                            Recovery of an MMO Junkie\n",
       "175                                     Noragami Aragoto\n",
       "187                     Phantom: Requiem for the Phantom\n",
       "190                                              Rainbow\n",
       "191                          Chivalry of a Failed Knight\n",
       "196                                    ReLIFE: Final Arc\n",
       "203    The World's Finest Assassin Gets Reincarnated ...\n",
       "214                    A Place Further Than the Universe\n",
       "220        Sword Art Online Alternative: Gun Gale Online\n",
       "231                                          Angel's Egg\n",
       "233                              A Certain Magical Index\n",
       "234                           A Certain Magical Index II\n",
       "237                          Tsubasa RESERVoir CHRoNiCLE\n",
       "241                         Violet Evergarden: the Movie\n",
       "253                                     Grimoire of Zero\n",
       "254                                 The Familiar of Zero\n",
       "255                               The Familiar of Zero F\n",
       "256       The Familiar of Zero: Knight of the Twin Moons\n",
       "257          The Familiar of Zero: \"Rondo\" of Princesses\n",
       "Name: english, dtype: object"
      ]
     },
     "execution_count": 143,
     "metadata": {},
     "output_type": "execute_result"
    }
   ],
   "source": [
    "df_completed[df_completed['score']==7]['english']"
   ]
  },
  {
   "cell_type": "code",
   "execution_count": 147,
   "metadata": {},
   "outputs": [
    {
     "data": {
      "text/plain": [
       "523                                           Texhnolyze\n",
       "482                                      Night Raid 1931\n",
       "450                         Nura: Rise of the Yokai Clan\n",
       "330                               Fate/EXTRA Last Encore\n",
       "545                                          Wolf's Rain\n",
       "299                                          City Hunter\n",
       "462                Planetarian: Storyteller of the Stars\n",
       "524                     A Certain Scientific Accelerator\n",
       "328                                           Fairy gone\n",
       "443    Natsume's Book of Friends the Movie: Ephemeral...\n",
       "279                  Baka and Test - Summon the Beasts 2\n",
       "327                                           Ergo Proxy\n",
       "368                                          HINAMATSURI\n",
       "452                                        Wolf Children\n",
       "320                                             DRIFTERS\n",
       "403                                Wise Man’s Grandchild\n",
       "310                                DARLING in the FRANXX\n",
       "536           Star Blazers: Space Battleship Yamato 2199\n",
       "341                                     Gatchaman Crowds\n",
       "559                         Zan Sayonara Zetsubou Sensei\n",
       "318                                               Dororo\n",
       "389                           Case File nº221: Kabukicho\n",
       "404                          Mobile Suit Gundam Hathaway\n",
       "402                           Blood Blockade Battlefront\n",
       "460                                       Pandora Hearts\n",
       "503                          Showa Genroku Rakugo Shinju\n",
       "510                                        Speed Grapher\n",
       "280                                       Bakemonogatari\n",
       "265                         Snow White with the Red Hair\n",
       "335                                    Full Metal Panic!\n",
       "Name: english, dtype: object"
      ]
     },
     "execution_count": 147,
     "metadata": {},
     "output_type": "execute_result"
    }
   ],
   "source": [
    "get_recommendations(\"Texhnolyze\", df_watched)"
   ]
  },
  {
   "cell_type": "code",
   "execution_count": null,
   "metadata": {},
   "outputs": [],
   "source": []
  }
 ],
 "metadata": {
  "kernelspec": {
   "display_name": "project_based",
   "language": "python",
   "name": "python3"
  },
  "language_info": {
   "codemirror_mode": {
    "name": "ipython",
    "version": 3
   },
   "file_extension": ".py",
   "mimetype": "text/x-python",
   "name": "python",
   "nbconvert_exporter": "python",
   "pygments_lexer": "ipython3",
   "version": "3.10.9"
  },
  "orig_nbformat": 4,
  "vscode": {
   "interpreter": {
    "hash": "9e767182b5ccd056ef97aa2a94e5ed12059f98b06a6450ba11fa1d78a5683340"
   }
  }
 },
 "nbformat": 4,
 "nbformat_minor": 2
}
